{
 "cells": [
  {
   "cell_type": "markdown",
   "id": "829e8b8d-423d-4c2e-98a0-73e1b85a14ea",
   "metadata": {},
   "source": [
    "## 1 – Extraction des frames depuis une vidéo"
   ]
  },
  {
   "cell_type": "code",
   "execution_count": null,
   "id": "62a53806-5132-4974-9294-21b5f318bad9",
   "metadata": {},
   "outputs": [],
   "source": [
    "# Extraction de frames avec OpenCV\n",
    "import cv2\n",
    "import os\n",
    "\n",
    "video_path = \"match_sf6.mp4\"\n",
    "output_dir = \"frames\"\n",
    "os.makedirs(output_dir, exist_ok=True)\n",
    "\n",
    "cap = cv2.VideoCapture(video_path)\n",
    "fps = cap.get(cv2.CAP_PROP_FPS)\n",
    "frame_interval = int(fps // 10)  # ~10 images/sec\n",
    "\n",
    "count, saved = 0, 0\n",
    "while cap.isOpened():\n",
    "    ret, frame = cap.read()\n",
    "    if not ret:\n",
    "        break\n",
    "    if count % frame_interval == 0:\n",
    "        frame_name = os.path.join(output_dir, f\"frame_{saved:04d}.png\")\n",
    "        cv2.imwrite(frame_name, frame)\n",
    "        saved += 1\n",
    "    count += 1\n",
    "\n",
    "cap.release()\n",
    "print(f\"✅ {saved} frames sauvegardées dans {output_dir}\")\n"
   ]
  },
  {
   "cell_type": "markdown",
   "id": "6ba2e59b-55d4-4935-a6ee-6b773692bcbb",
   "metadata": {},
   "source": [
    "## 2 – Découpe du timer"
   ]
  },
  {
   "cell_type": "code",
   "execution_count": null,
   "id": "1289468b-3d14-4329-9aa6-3524c63993cc",
   "metadata": {},
   "outputs": [],
   "source": [
    "import matplotlib.pyplot as plt\n",
    "\n",
    "# Coordonnées fixes pour un écran 1080p (à ajuster si nécessaire)\n",
    "digit_boxes = [\n",
    "    (860, 40, 40, 80),  # Chiffre 1\n",
    "    (905, 40, 40, 80),  # Chiffre 2\n",
    "]\n",
    "\n",
    "frames_list = sorted(os.listdir(output_dir))\n",
    "sample_frame = cv2.imread(os.path.join(output_dir, frames_list[0]))\n",
    "\n",
    "plt.imshow(cv2.cvtColor(sample_frame, cv2.COLOR_BGR2RGB))\n",
    "plt.title(\"Frame complète - Timer visible\")\n",
    "plt.show()\n",
    "\n",
    "# Test de découpe\n",
    "for (x, y, w, h) in digit_boxes:\n",
    "    crop = sample_frame[y:y+h, x:x+w]\n",
    "    plt.imshow(cv2.cvtColor(crop, cv2.COLOR_BGR2RGB))\n",
    "    plt.show()\n"
   ]
  },
  {
   "cell_type": "markdown",
   "id": "50560e4b-cab0-45f7-84d4-5e14521b42cc",
   "metadata": {},
   "source": [
    "## 3 – Étiquetage assisté du dataset"
   ]
  },
  {
   "cell_type": "code",
   "execution_count": 4,
   "id": "865e1a5a-eb5a-405e-9cd0-d7a32eae7f34",
   "metadata": {},
   "outputs": [
    {
     "ename": "NameError",
     "evalue": "name 'frames_list' is not defined",
     "output_type": "error",
     "traceback": [
      "\u001b[31m---------------------------------------------------------------------------\u001b[39m",
      "\u001b[31mNameError\u001b[39m                                 Traceback (most recent call last)",
      "\u001b[36mCell\u001b[39m\u001b[36m \u001b[39m\u001b[32mIn[4]\u001b[39m\u001b[32m, line 11\u001b[39m\n\u001b[32m      8\u001b[39m \u001b[38;5;28;01mfor\u001b[39;00m d \u001b[38;5;129;01min\u001b[39;00m \u001b[38;5;28mrange\u001b[39m(\u001b[32m10\u001b[39m):\n\u001b[32m      9\u001b[39m     os.makedirs(os.path.join(dataset_dir, \u001b[38;5;28mstr\u001b[39m(d)), exist_ok=\u001b[38;5;28;01mTrue\u001b[39;00m)\n\u001b[32m---> \u001b[39m\u001b[32m11\u001b[39m \u001b[38;5;28;01mfor\u001b[39;00m frame_name \u001b[38;5;129;01min\u001b[39;00m \u001b[43mframes_list\u001b[49m:\n\u001b[32m     12\u001b[39m     frame_path = os.path.join(output_dir, frame_name)\n\u001b[32m     13\u001b[39m     frame = cv2.imread(frame_path)\n",
      "\u001b[31mNameError\u001b[39m: name 'frames_list' is not defined"
     ]
    }
   ],
   "source": [
    "from PIL import Image\n",
    "import shutil\n",
    "import os\n",
    "\n",
    "dataset_dir = \"dataset/train\"\n",
    "os.makedirs(dataset_dir, exist_ok=True)\n",
    "\n",
    "for d in range(10):\n",
    "    os.makedirs(os.path.join(dataset_dir, str(d)), exist_ok=True)\n",
    "\n",
    "for frame_name in frames_list:\n",
    "    frame_path = os.path.join(output_dir, frame_name)\n",
    "    frame = cv2.imread(frame_path)\n",
    "    for i, (x, y, w, h) in enumerate(digit_boxes):\n",
    "        crop = frame[y:y+h, x:x+w]\n",
    "        plt.imshow(cv2.cvtColor(crop, cv2.COLOR_BGR2RGB))\n",
    "        plt.axis('off')\n",
    "        plt.show()\n",
    "        label = input(f\"Chiffre #{i+1} : \")\n",
    "        if label.isdigit() and 0 <= int(label) <= 9:\n",
    "            save_path = os.path.join(dataset_dir, label, f\"{frame_name}_digit{i}.png\")\n",
    "            cv2.imwrite(save_path, crop)\n"
   ]
  },
  {
   "cell_type": "markdown",
   "id": "1a15c671-557f-467f-ab57-60e156192cc3",
   "metadata": {},
   "source": [
    "## 4 – Entraînement du modèle"
   ]
  },
  {
   "cell_type": "code",
   "execution_count": null,
   "id": "f4f6b1b7-30dc-4f83-9368-05f6badc2a35",
   "metadata": {},
   "outputs": [],
   "source": [
    "import torch\n",
    "import torch.nn as nn\n",
    "import torch.optim as optim\n",
    "from torchvision import datasets, transforms, models\n",
    "from torch.utils.data import DataLoader\n",
    "\n",
    "transform = transforms.Compose([\n",
    "    transforms.Grayscale(),\n",
    "    transforms.Resize((32, 32)),\n",
    "    transforms.ToTensor(),\n",
    "    transforms.Normalize((0.5,), (0.5,))\n",
    "])\n",
    "\n",
    "train_dataset = datasets.ImageFolder(dataset_dir, transform=transform)\n",
    "train_loader = DataLoader(train_dataset, batch_size=16, shuffle=True)\n",
    "\n",
    "model = models.resnet18(pretrained=True)\n",
    "model.conv1 = nn.Conv2d(1, 64, kernel_size=7, stride=2, padding=3, bias=False)\n",
    "model.fc = nn.Linear(model.fc.in_features, 10)\n",
    "\n",
    "device = torch.device(\"cuda\" if torch.cuda.is_available() else \"cpu\")\n",
    "model.to(device)\n",
    "\n",
    "criterion = nn.CrossEntropyLoss()\n",
    "optimizer = optim.Adam(model.parameters(), lr=0.001)\n",
    "\n",
    "epochs = 5\n",
    "for epoch in range(epochs):\n",
    "    model.train()\n",
    "    total_loss = 0\n",
    "    for inputs, labels in train_loader:\n",
    "        inputs, labels = inputs.to(device), labels.to(device)\n",
    "        optimizer.zero_grad()\n",
    "        outputs = model(inputs)\n",
    "        loss = criterion(outputs, labels)\n",
    "        loss.backward()\n",
    "        optimizer.step()\n",
    "        total_loss += loss.item()\n",
    "    print(f\"Epoch {epoch+1}/{epochs}, Loss: {total_loss/len(train_loader):.4f}\")\n",
    "\n",
    "torch.save(model.state_dict(), \"sf6_timer_model.pth\")\n",
    "print(\"✅ Modèle sauvegardé\")\n"
   ]
  },
  {
   "cell_type": "markdown",
   "id": "a5fea11d-52ae-4ad0-bfc5-323e317d278e",
   "metadata": {},
   "source": [
    "## 5 – Prédiction sur une image de match"
   ]
  },
  {
   "cell_type": "code",
   "execution_count": null,
   "id": "7bf989b3-07d0-4bbf-be9a-149e0691de92",
   "metadata": {},
   "outputs": [],
   "source": [
    "def predict_digit(img_crop):\n",
    "    img = transform(Image.fromarray(cv2.cvtColor(img_crop, cv2.COLOR_BGR2RGB))).unsqueeze(0).to(device)\n",
    "    with torch.no_grad():\n",
    "        output = model(img)\n",
    "        _, pred = torch.max(output, 1)\n",
    "    return str(pred.item())\n",
    "\n",
    "test_image = cv2.imread(\"test_frame.png\")\n",
    "recognized = []\n",
    "for (x, y, w, h) in digit_boxes:\n",
    "    crop = test_image[y:y+h, x:x+w]\n",
    "    recognized.append(predict_digit(crop))\n",
    "\n",
    "print(\"⏱ Timer reconnu :\", \"\".join(recognized))\n"
   ]
  }
 ],
 "metadata": {
  "kernelspec": {
   "display_name": "Python 3 (ipykernel)",
   "language": "python",
   "name": "python3"
  },
  "language_info": {
   "codemirror_mode": {
    "name": "ipython",
    "version": 3
   },
   "file_extension": ".py",
   "mimetype": "text/x-python",
   "name": "python",
   "nbconvert_exporter": "python",
   "pygments_lexer": "ipython3",
   "version": "3.12.11"
  }
 },
 "nbformat": 4,
 "nbformat_minor": 5
}
