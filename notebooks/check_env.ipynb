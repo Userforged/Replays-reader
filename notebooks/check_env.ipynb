{
 "cells": [
  {
   "cell_type": "markdown",
   "id": "18f47025",
   "metadata": {},
   "source": [
    "# 🔍 Diagnostic de l'environnement Python / PyTorch / CUDA\n",
    "Ce notebook permet de vérifier :\n",
    "1. La version de Python et l'emplacement des `site-packages`\n",
    "2. Que le volume partagé est bien monté\n",
    "3. Que PyTorch détecte bien le GPU et la version CUDA\n",
    "4. Que toutes les dépendances installées sont bien présentes"
   ]
  },
  {
   "cell_type": "markdown",
   "id": "493d1363-54d8-41f9-8785-ad7ef7d4ebd2",
   "metadata": {},
   "source": [
    "## 💻 GPU et CUDA"
   ]
  },
  {
   "cell_type": "code",
   "execution_count": 11,
   "id": "03cbb3dc",
   "metadata": {},
   "outputs": [
    {
     "name": "stdout",
     "output_type": "stream",
     "text": [
      "PyTorch version: 2.7.1+cu128\n",
      "CUDA disponible: True\n",
      "Version CUDA (PyTorch): 12.8\n",
      "Nombre de GPU: 1\n",
      "Nom du GPU: Quadro RTX 5000\n"
     ]
    }
   ],
   "source": [
    "print(\"PyTorch version:\", torch.__version__)\n",
    "print(\"CUDA disponible:\", torch.cuda.is_available())\n",
    "if torch.cuda.is_available():\n",
    "    print(\"Version CUDA (PyTorch):\", torch.version.cuda)\n",
    "    print(\"Nombre de GPU:\", torch.cuda.device_count())\n",
    "    print(\"Nom du GPU:\", torch.cuda.get_device_name(0))"
   ]
  },
  {
   "cell_type": "markdown",
   "id": "f0b56d5e-3871-4381-a1b3-efb69ae73e98",
   "metadata": {},
   "source": [
    "## 🐍📦 Versions"
   ]
  },
  {
   "cell_type": "code",
   "execution_count": 5,
   "id": "909aafad-8635-4c34-b19a-7e0176587478",
   "metadata": {},
   "outputs": [
    {
     "name": "stdout",
     "output_type": "stream",
     "text": [
      "Python version: 3.12.11 | packaged by conda-forge | (main, Jun  4 2025, 14:45:31) [GCC 13.3.0]\n",
      "System: Linux 6.6.87.2-microsoft-standard-WSL2\n",
      "\n",
      "--- Python Package Versions ---\n",
      "numpy: 2.2.6\n",
      "pandas: 2.3.1\n",
      "matplotlib: 3.10.5\n",
      "scikit-learn: Not installed\n",
      "scipy: 1.16.0\n",
      "fastai: Not installed\n",
      "torch: 2.7.1+cu128\n",
      "graphviz: Not installed\n",
      "IPython: 9.4.0\n",
      "cv2: Not installed\n"
     ]
    }
   ],
   "source": [
    "import sys\n",
    "import platform\n",
    "import importlib\n",
    "\n",
    "NOTABLE_PACKAGES = ['numpy', 'pandas', 'matplotlib', 'scikit-learn', 'scipy', 'fastai', 'torch', 'graphviz', 'IPython', 'cv2']\n",
    "\n",
    "def get_version(package_name):\n",
    "    try:\n",
    "        package = importlib.import_module(package_name)\n",
    "        return package.__version__\n",
    "    except (ImportError, AttributeError):\n",
    "        return \"Not installed\"\n",
    "\n",
    "print(f\"Python version: {sys.version}\")\n",
    "print(f\"System: {platform.system()} {platform.release()}\")\n",
    "\n",
    "print(\"\\n--- Python Package Versions ---\")\n",
    "for package in NOTABLE_PACKAGES:\n",
    "    print(f\"{package}: {get_version(package)}\")"
   ]
  }
 ],
 "metadata": {
  "kernelspec": {
   "display_name": "Python 3 (ipykernel)",
   "language": "python",
   "name": "python3"
  },
  "language_info": {
   "codemirror_mode": {
    "name": "ipython",
    "version": 3
   },
   "file_extension": ".py",
   "mimetype": "text/x-python",
   "name": "python",
   "nbconvert_exporter": "python",
   "pygments_lexer": "ipython3",
   "version": "3.12.11"
  }
 },
 "nbformat": 4,
 "nbformat_minor": 5
}
