{
 "cells": [
  {
   "cell_type": "markdown",
   "metadata": {},
   "source": [
    "# 🏭 Fabrication de Dataset pour Timer SF6\n",
    "\n",
    "Ce notebook contient les étapes pour créer un dataset d'entraînement à partir de vidéos ou frames SF6.\n",
    "\n",
    "## Flux de travail :\n",
    "1. **Extraction de frames** depuis une vidéo SF6\n",
    "2. **Découpe manuelle** des chiffres du timer \n",
    "3. **Étiquetage assisté** pour créer le dataset final dans `../input/learning/dataset/`\n",
    "\n",
    "⚠️ **Note** : Ces étapes ne sont nécessaires que si vous n'avez pas encore de dataset prêt."
   ]
  },
  {
   "cell_type": "markdown",
   "metadata": {},
   "source": [
    "## 1 – Extraction des frames depuis une vidéo"
   ]
  },
  {
   "cell_type": "code",
   "execution_count": null,
   "metadata": {},
   "outputs": [],
   "source": [
    "import cv2\n",
    "import os\n",
    "\n",
    "video_path = \"../input/match.mp4\"  # Nouveau chemin\n",
    "output_dir = \"frames\"\n",
    "os.makedirs(output_dir, exist_ok=True)\n",
    "\n",
    "cap = cv2.VideoCapture(video_path)\n",
    "fps = cap.get(cv2.CAP_PROP_FPS)\n",
    "frame_interval = int(fps // 10)  # ~10 images/sec\n",
    "\n",
    "count, saved = 0, 0\n",
    "while cap.isOpened():\n",
    "    ret, frame = cap.read()\n",
    "    if not ret:\n",
    "        break\n",
    "    if count % frame_interval == 0:\n",
    "        frame_name = os.path.join(output_dir, f\"frame_{saved:04d}.png\")\n",
    "        cv2.imwrite(frame_name, frame)\n",
    "        saved += 1\n",
    "    count += 1\n",
    "\n",
    "cap.release()\n",
    "print(f\"✅ {saved} frames sauvegardées dans {output_dir}\")"
   ]
  },
  {
   "cell_type": "markdown",
   "metadata": {},
   "source": [
    "## 2 – Découpe du timer"
   ]
  },
  {
   "cell_type": "code",
   "execution_count": null,
   "metadata": {},
   "outputs": [],
   "source": [
    "import matplotlib.pyplot as plt\n",
    "\n",
    "digit_boxes = [\n",
    "    (860, 40, 40, 80),  # Chiffre 1\n",
    "    (905, 40, 40, 80),  # Chiffre 2\n",
    "]\n",
    "\n",
    "frames_list = sorted(os.listdir(output_dir))\n",
    "sample_frame = cv2.imread(os.path.join(output_dir, frames_list[0]))\n",
    "\n",
    "plt.imshow(cv2.cvtColor(sample_frame, cv2.COLOR_BGR2RGB))\n",
    "plt.title(\"Frame complète - Timer visible\")\n",
    "plt.show()\n",
    "\n",
    "for (x, y, w, h) in digit_boxes:\n",
    "    crop = sample_frame[y:y+h, x:x+w]\n",
    "    plt.imshow(cv2.cvtColor(crop, cv2.COLOR_BGR2RGB))\n",
    "    plt.show()"
   ]
  },
  {
   "cell_type": "markdown",
   "metadata": {},
   "source": [
    "## 3 – Étiquetage assisté du dataset"
   ]
  },
  {
   "cell_type": "code",
   "execution_count": null,
   "metadata": {},
   "outputs": [],
   "source": [
    "from PIL import Image\n",
    "import shutil\n",
    "import os\n",
    "\n",
    "dataset_dir = \"../input/learning/dataset\"\n",
    "os.makedirs(dataset_dir, exist_ok=True)\n",
    "\n",
    "for d in range(10):\n",
    "    os.makedirs(os.path.join(dataset_dir, str(d)), exist_ok=True)\n",
    "\n",
    "frames_list = sorted(os.listdir(output_dir))\n",
    "\n",
    "print(f\"📁 Sauvegarde du dataset dans: {dataset_dir}\")\n",
    "print(f\"🏗️  Structure: 0/, 1/, 2/, ... 9/ créées\")\n",
    "\n",
    "for frame_name in frames_list:\n",
    "    frame_path = os.path.join(output_dir, frame_name)\n",
    "    frame = cv2.imread(frame_path)\n",
    "    for i, (x, y, w, h) in enumerate(digit_boxes):\n",
    "        crop = frame[y:y+h, x:x+w]\n",
    "        plt.imshow(cv2.cvtColor(crop, cv2.COLOR_BGR2RGB))\n",
    "        plt.axis('off')\n",
    "        plt.show()\n",
    "        label = input(f\"Chiffre #{i+1} : \")\n",
    "        if label.isdigit() and 0 <= int(label) <= 9:\n",
    "            save_path = os.path.join(dataset_dir, label, f\"{frame_name}_digit{i}.png\")\n",
    "            cv2.imwrite(save_path, crop)\n",
    "            print(f\"✅ Sauvé: {save_path}\")\n",
    "        else:\n",
    "            print(f\"⚠️  Ignoré (label invalide): {label}\")\n",
    "\n",
    "print(f\"\\n🎯 Étiquetage terminé! Dataset disponible dans {dataset_dir}\")\n",
    "print(f\"💡 Vous pouvez maintenant utiliser le notebook Timer/timer_training.ipynb\")"
   ]
  }
 ],
 "metadata": {
  "kernelspec": {
   "display_name": "Python 3 (ipykernel)",
   "language": "python",
   "name": "python3"
  },
  "language_info": {
   "codemirror_mode": {
    "name": "ipython",
    "version": 3
   },
   "file_extension": ".py",
   "mimetype": "text/x-python",
   "name": "python",
   "nbconvert_exporter": "python",
   "pygments_lexer": "ipython3",
   "version": "3.13.5"
  }
 },
 "nbformat": 4,
 "nbformat_minor": 4
}
