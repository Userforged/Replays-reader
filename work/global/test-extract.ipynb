{
 "cells": [
  {
   "cell_type": "markdown",
   "metadata": {},
   "source": [
    "# Street Fighter 6 Frame Extraction Test\n",
    "\n",
    "This notebook provides functionality to:\n",
    "- Extract frames from MP4 video files at specified intervals\n",
    "- Save extracted frames as PNG images with timestamp naming\n",
    "- Organize output in structured folder hierarchy\n",
    "- Support custom frame extraction rates\n",
    "\n",
    "The extracted frames can then be analyzed using the test-export notebook\n",
    "or other image analysis tools.\n",
    "\n",
    "Reproduit le comportement du script `test/test-extract.py`"
   ]
  },
  {
   "cell_type": "code",
   "execution_count": null,
   "metadata": {},
   "outputs": [],
   "source": [
    "import sys\n",
    "import os\n",
    "from IPython.display import display, clear_output\n",
    "import matplotlib.pyplot as plt\n",
    "\n",
    "# Add the project root to the Python path\n",
    "project_root = os.path.abspath('../..')\n",
    "if project_root not in sys.path:\n",
    "    sys.path.append(project_root)\n",
    "\n",
    "# Vérifier si frame_extractor.py existe dans le répertoire racine ou dans src/\n",
    "try:\n",
    "    from frame_extractor import FrameExtractor\n",
    "    print(\"✅ FrameExtractor importé depuis la racine du projet\")\n",
    "except ImportError:\n",
    "    try:\n",
    "        from src.frame_extractor import FrameExtractor\n",
    "        print(\"✅ FrameExtractor importé depuis src/\")\n",
    "    except ImportError:\n",
    "        print(\"❌ Erreur: FrameExtractor non trouvé. Vérifiez que le fichier frame_extractor.py existe.\")\n",
    "        print(\"Fichiers disponibles dans le répertoire racine:\")\n",
    "        root_files = [f for f in os.listdir('../..') if f.endswith('.py')]\n",
    "        for f in root_files:\n",
    "            print(f\"  - {f}\")\n",
    "        print(\"Fichiers disponibles dans src/:\")\n",
    "        src_files = [f for f in os.listdir('../../src') if f.endswith('.py')]\n",
    "        for f in src_files:\n",
    "            print(f\"  - {f}\")"
   ]
  },
  {
   "cell_type": "markdown",
   "metadata": {},
   "source": [
    "## Configuration"
   ]
  },
  {
   "cell_type": "code",
   "execution_count": null,
   "metadata": {},
   "outputs": [],
   "source": [
    "# Configuration\n",
    "VIDEO_PATH = 'input/match.mp4'  # Changez ce chemin selon votre vidéo à traiter\n",
    "FOLDER_NAME = None  # None pour utiliser le nom automatique, ou spécifiez un nom\n",
    "NO_PROMPT = True  # True pour utiliser le nom automatique sans demander\n",
    "DEBUG = True  # Active le mode debug\n",
    "\n",
    "print(f\"Vidéo à traiter: {VIDEO_PATH}\")\n",
    "print(f\"Nom du dossier de sortie: {FOLDER_NAME or 'automatique'}\")\n",
    "print(f\"Mode sans prompt: {NO_PROMPT}\")\n",
    "print(f\"Mode debug: {DEBUG}\")"
   ]
  },
  {
   "cell_type": "markdown",
   "metadata": {},
   "source": [
    "## Vérification de l'existence du fichier vidéo"
   ]
  },
  {
   "cell_type": "code",
   "execution_count": null,
   "metadata": {},
   "outputs": [],
   "source": [
    "if not os.path.exists(VIDEO_PATH):\n",
    "    print(f\"❌ Error: Video file '{VIDEO_PATH}' does not exist.\")\n",
    "    \n",
    "    # Lister les vidéos disponibles\n",
    "    input_dir = 'input'\n",
    "    if os.path.exists(input_dir):\n",
    "        video_extensions = ('.mp4', '.avi', '.mov', '.mkv', '.wmv', '.flv')\n",
    "        available_videos = [f for f in os.listdir(input_dir) if f.lower().endswith(video_extensions)]\n",
    "        if available_videos:\n",
    "            print(f\"Vidéos disponibles dans {input_dir}:\")\n",
    "            for video in available_videos:\n",
    "                video_path = os.path.join(input_dir, video)\n",
    "                size_mb = os.path.getsize(video_path) / (1024 * 1024)\n",
    "                print(f\"  - {video} ({size_mb:.1f} MB)\")\n",
    "        else:\n",
    "            print(f\"❌ Aucune vidéo trouvée dans {input_dir}\")\n",
    "    else:\n",
    "        print(f\"❌ Dossier {input_dir} non trouvé\")\n",
    "else:\n",
    "    print(f\"✅ Vidéo trouvée: {VIDEO_PATH}\")\n",
    "    size_mb = os.path.getsize(VIDEO_PATH) / (1024 * 1024)\n",
    "    print(f\"Taille du fichier: {size_mb:.1f} MB\")"
   ]
  },
  {
   "cell_type": "markdown",
   "metadata": {},
   "source": [
    "## Fonction d'extraction des frames"
   ]
  },
  {
   "cell_type": "code",
   "execution_count": null,
   "metadata": {},
   "outputs": [],
   "source": [
    "def extract_frames_with_progress(video_path, folder_name=None, no_prompt=True, debug=True):\n",
    "    \"\"\"\n",
    "    Extrait les frames d'une vidéo avec affichage de progression.\n",
    "    \"\"\"\n",
    "    try:\n",
    "        print(f\"🎬 Initialisation de l'extracteur de frames...\")\n",
    "        extractor = FrameExtractor(video_path, folder_name, no_prompt, debug=debug)\n",
    "        \n",
    "        print(f\"🚀 Début de l'extraction des frames...\")\n",
    "        result = extractor.extract_frames()\n",
    "        \n",
    "        print(f\"✅ Extraction terminée avec succès!\")\n",
    "        return result\n",
    "        \n",
    "    except Exception as e:\n",
    "        print(f\"❌ Erreur lors de l'extraction: {str(e)}\")\n",
    "        import traceback\n",
    "        traceback.print_exc()\n",
    "        return None"
   ]
  },
  {
   "cell_type": "markdown",
   "metadata": {},
   "source": [
    "## Exécution de l'extraction"
   ]
  },
  {
   "cell_type": "code",
   "execution_count": null,
   "metadata": {},
   "outputs": [],
   "source": [
    "if os.path.exists(VIDEO_PATH):\n",
    "    print(f\"🎯 Extraction des frames de: {VIDEO_PATH}\")\n",
    "    \n",
    "    # Exécuter l'extraction\n",
    "    result = extract_frames_with_progress(VIDEO_PATH, FOLDER_NAME, NO_PROMPT, DEBUG)\n",
    "    \n",
    "    if result is not None:\n",
    "        print(\"\\n=== RÉSUMÉ DE L'EXTRACTION ===\")\n",
    "        # Note: Le retour de la fonction dépend de l'implémentation de FrameExtractor\n",
    "        # Ici on suppose qu'elle retourne des informations sur l'extraction\n",
    "        \n",
    "        # Vérifier le dossier de sortie créé\n",
    "        # Le dossier de sortie est généralement dans input/frames/\n",
    "        frames_base_dir = 'input/frames'\n",
    "        if os.path.exists(frames_base_dir):\n",
    "            subdirs = [d for d in os.listdir(frames_base_dir) if os.path.isdir(os.path.join(frames_base_dir, d))]\n",
    "            if subdirs:\n",
    "                print(f\"Dossiers de frames créés dans {frames_base_dir}:\")\n",
    "                for subdir in sorted(subdirs, key=lambda x: os.path.getmtime(os.path.join(frames_base_dir, x)), reverse=True):\n",
    "                    subdir_path = os.path.join(frames_base_dir, subdir)\n",
    "                    frame_count = len([f for f in os.listdir(subdir_path) if f.lower().endswith(('.png', '.jpg', '.jpeg'))])\n",
    "                    print(f\"  - {subdir}: {frame_count} frames\")\n",
    "                \n",
    "                # Prendre le dossier le plus récent comme résultat de cette extraction\n",
    "                latest_dir = sorted(subdirs, key=lambda x: os.path.getmtime(os.path.join(frames_base_dir, x)), reverse=True)[0]\n",
    "                latest_dir_path = os.path.join(frames_base_dir, latest_dir)\n",
    "                \n",
    "                print(f\"\\n📁 Dossier de sortie le plus récent: {latest_dir_path}\")\n",
    "                \n",
    "                # Compter les frames extraites\n",
    "                extracted_frames = [f for f in os.listdir(latest_dir_path) if f.lower().endswith(('.png', '.jpg', '.jpeg'))]\n",
    "                print(f\"📸 Nombre de frames extraites: {len(extracted_frames)}\")\n",
    "                \n",
    "                if extracted_frames:\n",
    "                    print(\"Exemples de frames:\")\n",
    "                    for frame in extracted_frames[:5]:\n",
    "                        print(f\"  - {frame}\")\n",
    "                    if len(extracted_frames) > 5:\n",
    "                        print(f\"  ... et {len(extracted_frames) - 5} autres\")\n",
    "        \n",
    "else:\n",
    "    print(f\"❌ Impossible d'extraire - la vidéo {VIDEO_PATH} n'existe pas\")"
   ]
  },
  {
   "cell_type": "markdown",
   "metadata": {},
   "source": [
    "## Visualisation des frames extraites (optionnel)"
   ]
  },
  {
   "cell_type": "code",
   "execution_count": null,
   "metadata": {},
   "outputs": [],
   "source": [
    "# Optionnel: Afficher quelques frames extraites\n",
    "frames_base_dir = 'input/frames'\n",
    "\n",
    "if os.path.exists(frames_base_dir):\n",
    "    subdirs = [d for d in os.listdir(frames_base_dir) if os.path.isdir(os.path.join(frames_base_dir, d))]\n",
    "    \n",
    "    if subdirs:\n",
    "        # Prendre le dossier le plus récent\n",
    "        latest_dir = sorted(subdirs, key=lambda x: os.path.getmtime(os.path.join(frames_base_dir, x)), reverse=True)[0]\n",
    "        latest_dir_path = os.path.join(frames_base_dir, latest_dir)\n",
    "        \n",
    "        # Lister les frames\n",
    "        frame_files = [f for f in os.listdir(latest_dir_path) if f.lower().endswith(('.png', '.jpg', '.jpeg'))]\n",
    "        frame_files.sort()\n",
    "        \n",
    "        if frame_files:\n",
    "            import cv2 as cv\n",
    "            \n",
    "            # Afficher les 4 premières frames\n",
    "            num_to_show = min(4, len(frame_files))\n",
    "            \n",
    "            fig, axes = plt.subplots(2, 2, figsize=(15, 10))\n",
    "            axes = axes.flatten()\n",
    "            \n",
    "            for i in range(num_to_show):\n",
    "                frame_path = os.path.join(latest_dir_path, frame_files[i])\n",
    "                frame = cv.imread(frame_path)\n",
    "                if frame is not None:\n",
    "                    frame_rgb = cv.cvtColor(frame, cv.COLOR_BGR2RGB)\n",
    "                    axes[i].imshow(frame_rgb)\n",
    "                    axes[i].set_title(f'Frame: {frame_files[i]}')\n",
    "                    axes[i].axis('off')\n",
    "                else:\n",
    "                    axes[i].text(0.5, 0.5, 'Erreur de lecture', ha='center', va='center')\n",
    "                    axes[i].set_title(f'Erreur: {frame_files[i]}')\n",
    "            \n",
    "            # Masquer les axes non utilisés\n",
    "            for j in range(num_to_show, 4):\n",
    "                axes[j].axis('off')\n",
    "            \n",
    "            plt.tight_layout()\n",
    "            plt.show()\n",
    "            \n",
    "            print(f\"Affichage de {num_to_show} frames sur {len(frame_files)} extraites\")\n",
    "        else:\n",
    "            print(\"❌ Aucune frame trouvée dans le dossier le plus récent\")\n",
    "    else:\n",
    "        print(\"❌ Aucun dossier de frames trouvé\")\n",
    "else:\n",
    "    print(f\"❌ Dossier de frames non trouvé: {frames_base_dir}\")"
   ]
  },
  {
   "cell_type": "markdown",
   "metadata": {},
   "source": [
    "## Informations sur les frames extraites"
   ]
  },
  {
   "cell_type": "code",
   "execution_count": null,
   "metadata": {},
   "outputs": [],
   "source": [
    "# Afficher des statistiques détaillées sur l'extraction\n",
    "frames_base_dir = 'input/frames'\n",
    "\n",
    "if os.path.exists(frames_base_dir):\n",
    "    print(\"=== STATISTIQUES D'EXTRACTION ===\")\n",
    "    \n",
    "    all_subdirs = [d for d in os.listdir(frames_base_dir) if os.path.isdir(os.path.join(frames_base_dir, d))]\n",
    "    \n",
    "    if all_subdirs:\n",
    "        print(f\"Nombre total de dossiers d'extraction: {len(all_subdirs)}\")\n",
    "        \n",
    "        total_frames = 0\n",
    "        for subdir in all_subdirs:\n",
    "            subdir_path = os.path.join(frames_base_dir, subdir)\n",
    "            frame_count = len([f for f in os.listdir(subdir_path) if f.lower().endswith(('.png', '.jpg', '.jpeg'))])\n",
    "            total_frames += frame_count\n",
    "        \n",
    "        print(f\"Nombre total de frames extraites: {total_frames}\")\n",
    "        \n",
    "        # Calculer l'espace disque utilisé\n",
    "        total_size = 0\n",
    "        for subdir in all_subdirs:\n",
    "            subdir_path = os.path.join(frames_base_dir, subdir)\n",
    "            for frame_file in os.listdir(subdir_path):\n",
    "                frame_path = os.path.join(subdir_path, frame_file)\n",
    "                if os.path.isfile(frame_path):\n",
    "                    total_size += os.path.getsize(frame_path)\n",
    "        \n",
    "        print(f\"Espace disque utilisé: {total_size / (1024*1024):.1f} MB\")\n",
    "        \n",
    "        if total_frames > 0:\n",
    "            avg_size = total_size / total_frames\n",
    "            print(f\"Taille moyenne par frame: {avg_size / 1024:.1f} KB\")\n",
    "    else:\n",
    "        print(\"❌ Aucun dossier d'extraction trouvé\")\n",
    "else:\n",
    "    print(f\"❌ Dossier de base non trouvé: {frames_base_dir}\")"
   ]
  }
 ],
 "metadata": {
  "kernelspec": {
   "display_name": "Python 3",
   "language": "python",
   "name": "python3"
  },
  "language_info": {
   "codemirror_mode": {
    "name": "ipython",
    "version": 3
   },
   "file_extension": ".py",
   "name": "python",
   "nbconvert_exporter": "python",
   "pygments_lexer": "ipython3",
   "version": "3.8.10"
  }
 },
 "nbformat": 4,
 "nbformat_minor": 4
}